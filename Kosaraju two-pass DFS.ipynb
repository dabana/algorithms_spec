{
 "cells": [
  {
   "cell_type": "code",
   "execution_count": 198,
   "metadata": {},
   "outputs": [],
   "source": [
    "import numpy as np\n",
    "\n",
    "with open('SCC.txt') as file:\n",
    "    g = np.loadtxt(file)\n"
   ]
  },
  {
   "cell_type": "code",
   "execution_count": 199,
   "metadata": {},
   "outputs": [
    {
     "name": "stdout",
     "output_type": "stream",
     "text": [
      "there is 5105043 arcs in this directed graph.\n",
      "there is 875714 nodes in this directed graph.\n"
     ]
    }
   ],
   "source": [
    "m = len(g)\n",
    "n = int(np.max(g))\n",
    "print('there is ' + str(m) + ' arcs in this directed graph.')\n",
    "print('there is ' + str(n) + ' nodes in this directed graph.')"
   ]
  },
  {
   "cell_type": "code",
   "execution_count": 200,
   "metadata": {},
   "outputs": [
    {
     "name": "stdout",
     "output_type": "stream",
     "text": [
      "5105000\r"
     ]
    }
   ],
   "source": [
    "#Create adjacency lists of G and Grev\n",
    "G = np.empty((n, 0)).tolist()\n",
    "Grev = np.empty((n, 0)).tolist()\n",
    "i = 0\n",
    "for arc in g:\n",
    "    if i%1000 == 0:\n",
    "        print(i, end ='\\r')\n",
    "    G[int(arc[0])-1].append(int(arc[1])-1)\n",
    "    Grev[int(arc[1])-1].append(int(arc[0])-1)\n",
    "    i += 1\n",
    "        \n",
    "    "
   ]
  },
  {
   "cell_type": "code",
   "execution_count": 201,
   "metadata": {
    "collapsed": true
   },
   "outputs": [],
   "source": [
    "#Recursive implementation of DFS\n",
    "import sys, threading\n",
    "sys.setrecursionlimit(800000)\n",
    "threading.stack_size(67108864)\n",
    "\n",
    "def DFS1(G, i):\n",
    "    global expl_bool, t, f\n",
    "    expl_bool[i] = 1\n",
    "    for node in G[i]:\n",
    "        if expl_bool[node] == 0:\n",
    "            DFS1(G,node)\n",
    "    t += 1\n",
    "    f[t] = i\n",
    "    \n",
    "def DFS2(G, i):\n",
    "    global expl_bool, s, l\n",
    "    expl_bool[i] = 1\n",
    "    l[i] = int(s)\n",
    "    for node in G[i]:\n",
    "        if expl_bool[node] == 0:\n",
    "            DFS2(G,node)"
   ]
  },
  {
   "cell_type": "code",
   "execution_count": 228,
   "metadata": {},
   "outputs": [],
   "source": [
    "\n",
    "\n",
    "def main():\n",
    "    global expl_bool, t, s, l, f\n",
    "    #First pass on reversed graph\n",
    "    for i in range(n-1,-1,-1):\n",
    "        if expl_bool[i] == 0:\n",
    "            DFS1(Grev, i)\n",
    "          \n",
    "    #Second pass on original graph with f-ordering\n",
    "    expl_bool = np.zeros(n) \n",
    "    for k in range(n-1,-1,-1):\n",
    "        i = int(f[k])\n",
    "        if expl_bool[i] == 0:\n",
    "            s = i;\n",
    "            DFS2(G, i)\n",
    "    \n",
    "    print('Done!')\n",
    "            \n",
    "        \n",
    "        "
   ]
  },
  {
   "cell_type": "code",
   "execution_count": 229,
   "metadata": {},
   "outputs": [
    {
     "name": "stdout",
     "output_type": "stream",
     "text": [
      "Done!\n"
     ]
    }
   ],
   "source": [
    "t = -1\n",
    "s = None\n",
    "l = np.zeros(n)\n",
    "expl_bool = np.zeros(n)\n",
    "f = np.zeros(n)\n",
    "thread = threading.Thread(target=main)\n",
    "thread.start()"
   ]
  },
  {
   "cell_type": "code",
   "execution_count": 230,
   "metadata": {},
   "outputs": [
    {
     "name": "stdout",
     "output_type": "stream",
     "text": [
      "875714\n",
      "439917.0\n"
     ]
    }
   ],
   "source": [
    "print(len(l))\n",
    "print(l[342])"
   ]
  },
  {
   "cell_type": "code",
   "execution_count": 231,
   "metadata": {},
   "outputs": [],
   "source": [
    "binned = np.bincount([int(i) for i in l])"
   ]
  },
  {
   "cell_type": "code",
   "execution_count": 232,
   "metadata": {},
   "outputs": [
    {
     "name": "stdout",
     "output_type": "stream",
     "text": [
      "434821\n",
      "[   197    205    211    313    459    968 434821]\n",
      "[525408 828412 677095  33603 442456 413830  67967]\n"
     ]
    }
   ],
   "source": [
    "print(max(binned))\n",
    "ii = np.argsort(binned)[-7:] # positions\n",
    "vals = binned[ii]\n",
    "print(vals)\n",
    "print(ii)"
   ]
  },
  {
   "cell_type": "code",
   "execution_count": null,
   "metadata": {},
   "outputs": [],
   "source": []
  },
  {
   "cell_type": "code",
   "execution_count": null,
   "metadata": {
    "collapsed": true
   },
   "outputs": [],
   "source": []
  }
 ],
 "metadata": {
  "kernelspec": {
   "display_name": "Python 3",
   "language": "python",
   "name": "python3"
  },
  "language_info": {
   "codemirror_mode": {
    "name": "ipython",
    "version": 3
   },
   "file_extension": ".py",
   "mimetype": "text/x-python",
   "name": "python",
   "nbconvert_exporter": "python",
   "pygments_lexer": "ipython3",
   "version": "3.6.3"
  }
 },
 "nbformat": 4,
 "nbformat_minor": 2
}
