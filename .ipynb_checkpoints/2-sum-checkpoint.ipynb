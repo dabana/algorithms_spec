{
 "cells": [
  {
   "cell_type": "code",
   "execution_count": 100,
   "metadata": {},
   "outputs": [],
   "source": [
    "#Solution to the 2-sum problem hash tables (aka dictonaries in Python)\n",
    "import sys, threading\n",
    "import numpy as np\n",
    "#Read in the digits from the file one at the time\n",
    "dic = {}\n",
    "with open('2SUM.txt') as file:\n",
    "    for line in file:\n",
    "        #print(line)\n",
    "        dic[int(line)] = int(line)\n",
    "\n"
   ]
  },
  {
   "cell_type": "code",
   "execution_count": 101,
   "metadata": {},
   "outputs": [
    {
     "name": "stdout",
     "output_type": "stream",
     "text": [
      "999752\n"
     ]
    }
   ],
   "source": [
    "print(len(dic))"
   ]
  },
  {
   "cell_type": "code",
   "execution_count": 139,
   "metadata": {},
   "outputs": [],
   "source": [
    "#Binary search which returns the closest smaller absolute value\n",
    "def binarysearch(array, targetValue):\n",
    "    Min = 0\n",
    "    Max = len(array) - 1\n",
    "    guess = (Min + Max) // 2\n",
    "    while(Max >= Min):\n",
    "        if array[guess] == targetValue:\n",
    "            return guess\n",
    "        elif array[guess] < targetValue:\n",
    "            Min = guess + 1\n",
    "        else:\n",
    "            Max = guess - 1\n",
    "        guess = (Min + Max) // 2\n",
    " #   if targetValue <= 0:\n",
    "  #      return Min\n",
    "   # elif targetValue > 0:\n",
    "    #    return Max\n",
    "    return Min"
   ]
  },
  {
   "cell_type": "code",
   "execution_count": 151,
   "metadata": {},
   "outputs": [],
   "source": [
    "#Algorithm whish makes use of the sparsness of the problem at hand\n",
    "def main2():\n",
    "    global target_counts\n",
    "#1) Store all integer in dic hash-table/dictonary and create keylist [O(n)]\n",
    "    keylist = list(dic.keys())\n",
    "#2) Sort keylist = mydict.keys()   [O(n*log(n))].\n",
    "    keylist.sort()\n",
    "    for x in dic:\n",
    "        x = int(x)\n",
    "#3) For every entry x, look for 10000-x and -10000-x in keylist and store the two boundary indices. [O(2)]\n",
    "        minbound = -10000 - x\n",
    "        minindex = binarysearch(keylist, minbound)\n",
    "        maxbound = 10000 - x\n",
    "        maxindex = binarysearch(keylist, maxbound)\n",
    "#4) For every entry x, select the subarray in keylist between the two previously found boundary indices [O(2)?]\n",
    "        subarray = keylist[minindex:maxindex]\n",
    "#5) Add length of this subarray to the running sum of count [O(c) where c = length of subarray]\n",
    "        for y in subarray:\n",
    "            if x != y:\n",
    "                target_counts[x + y + 10000] += 1\n",
    "            #print(x, y, x + y)\n",
    "            #print(minindex, maxindex, len(subarray), sum([y != x for y in subarray]))\n",
    "\n",
    "\n",
    "    "
   ]
  },
  {
   "cell_type": "code",
   "execution_count": 155,
   "metadata": {},
   "outputs": [
    {
     "ename": "TypeError",
     "evalue": "ufunc 'add' did not contain a loop with signature matching types dtype('<U17') dtype('<U17') dtype('<U17')",
     "output_type": "error",
     "traceback": [
      "\u001b[1;31m---------------------------------------------------------------------------\u001b[0m",
      "\u001b[1;31mTypeError\u001b[0m                                 Traceback (most recent call last)",
      "\u001b[1;32m<ipython-input-155-51365e01a172>\u001b[0m in \u001b[0;36m<module>\u001b[1;34m()\u001b[0m\n\u001b[0;32m      1\u001b[0m \u001b[0mtarget_counts\u001b[0m \u001b[1;33m=\u001b[0m \u001b[0mnp\u001b[0m\u001b[1;33m.\u001b[0m\u001b[0mzeros\u001b[0m\u001b[1;33m(\u001b[0m\u001b[1;36m20001\u001b[0m\u001b[1;33m)\u001b[0m\u001b[1;33m\u001b[0m\u001b[0m\n\u001b[0;32m      2\u001b[0m \u001b[0mmain2\u001b[0m\u001b[1;33m(\u001b[0m\u001b[1;33m)\u001b[0m\u001b[1;33m\u001b[0m\u001b[0m\n\u001b[1;32m----> 3\u001b[1;33m \u001b[0mprint\u001b[0m\u001b[1;33m(\u001b[0m\u001b[1;34m'Final answer is: '\u001b[0m \u001b[1;33m+\u001b[0m \u001b[0msum\u001b[0m\u001b[1;33m(\u001b[0m\u001b[0mtarget_counts\u001b[0m \u001b[1;33m!=\u001b[0m \u001b[1;36m0\u001b[0m\u001b[1;33m)\u001b[0m\u001b[1;33m)\u001b[0m\u001b[1;33m\u001b[0m\u001b[0m\n\u001b[0m",
      "\u001b[1;31mTypeError\u001b[0m: ufunc 'add' did not contain a loop with signature matching types dtype('<U17') dtype('<U17') dtype('<U17')"
     ]
    }
   ],
   "source": [
    "target_counts = np.zeros(20001)\n",
    "main2()\n"
   ]
  },
  {
   "cell_type": "code",
   "execution_count": 156,
   "metadata": {},
   "outputs": [
    {
     "name": "stdout",
     "output_type": "stream",
     "text": [
      "Final answer is: 427\n"
     ]
    }
   ],
   "source": [
    "print('Final answer is: ' + str(sum(target_counts != 0)))"
   ]
  },
  {
   "cell_type": "code",
   "execution_count": 66,
   "metadata": {},
   "outputs": [
    {
     "name": "stdout",
     "output_type": "stream",
     "text": [
      "68037543430\n",
      "-99999887310\n",
      "-9532599 9658234\n",
      "95\n",
      "-9532599\n",
      "94\n"
     ]
    }
   ],
   "source": [
    "#Testing sorting the keylist\n",
    "keylist = list(dic.keys())\n",
    "print(keylist[0])\n",
    "keylist.sort()\n",
    "print(keylist[0])\n",
    "subarray = [key for key in keylist if -10000000 <= key <= 10000000]\n",
    "print(subarray[0], subarray[-1])\n",
    "print(len(subarray))\n",
    "print(subarray[0])\n",
    "x = subarray[0]\n",
    "print(sum([y != x for y in subarray]))"
   ]
  },
  {
   "cell_type": "code",
   "execution_count": 147,
   "metadata": {},
   "outputs": [
    {
     "name": "stdout",
     "output_type": "stream",
     "text": [
      "87380832800\n",
      "87380883464\n",
      "936817 936818\n",
      "1\n",
      "465 51129 465\n"
     ]
    }
   ],
   "source": [
    "#Testing the behavior of the binary search implementation\n",
    "x = -87380832335\n",
    "target = -10000 - x          #min =  -99999887310\n",
    "i = binarysearch(keylist, target)\n",
    "print(keylist[i])\n",
    "target = 10000 - x                  #max =99999662302\n",
    "j = binarysearch(keylist, target)\n",
    "print(keylist[j])\n",
    "print(i,j)\n",
    "subarray = keylist[i:j]\n",
    "print(len(subarray))\n",
    "print(x+keylist[i], x+keylist[j], x+subarray[0])"
   ]
  },
  {
   "cell_type": "code",
   "execution_count": null,
   "metadata": {
    "collapsed": true
   },
   "outputs": [],
   "source": []
  }
 ],
 "metadata": {
  "kernelspec": {
   "display_name": "Python 3",
   "language": "python",
   "name": "python3"
  },
  "language_info": {
   "codemirror_mode": {
    "name": "ipython",
    "version": 3
   },
   "file_extension": ".py",
   "mimetype": "text/x-python",
   "name": "python",
   "nbconvert_exporter": "python",
   "pygments_lexer": "ipython3",
   "version": "3.6.3"
  }
 },
 "nbformat": 4,
 "nbformat_minor": 2
}
