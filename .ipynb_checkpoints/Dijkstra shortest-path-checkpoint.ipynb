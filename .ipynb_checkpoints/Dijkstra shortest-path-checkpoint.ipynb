{
 "cells": [
  {
   "cell_type": "code",
   "execution_count": 82,
   "metadata": {},
   "outputs": [],
   "source": [
    "import numpy as np\n",
    "from heapdict import *\n",
    "#Read and parse the adjacency list from file and load into an array G\n",
    "G = []\n",
    "with open('SPD.txt') as file:\n",
    "    for line in file:\n",
    "        strings = line.split()\n",
    "        tuplist = []\n",
    "        for tup in strings[1:]:\n",
    "            tup = [int(char) for char in tup.split(',')]\n",
    "            tuplist.append(tup)\n",
    "        G.append(tuplist)\n"
   ]
  },
  {
   "cell_type": "code",
   "execution_count": 93,
   "metadata": {},
   "outputs": [
    {
     "name": "stdout",
     "output_type": "stream",
     "text": [
      "200\n"
     ]
    }
   ],
   "source": [
    "print(len(G))\n",
    "def main():\n",
    "    global X, hp, G\n",
    "    A = np.zeros(n)\n",
    "    n = len(G)\n",
    "    current_node = 1\n",
    "    while len(X) != n:\n",
    "        #Add the new edges to the heap\n",
    "        for edge in \n",
    "        break"
   ]
  },
  {
   "cell_type": "code",
   "execution_count": 85,
   "metadata": {},
   "outputs": [],
   "source": [
    "#Initialize a bunch of variables\n",
    "hp = heapdict()\n",
    "X = [1]\n",
    "\n",
    "#Execute Dijkstra algorithm\n",
    "main()"
   ]
  },
  {
   "cell_type": "code",
   "execution_count": 74,
   "metadata": {},
   "outputs": [
    {
     "name": "stdout",
     "output_type": "stream",
     "text": [
      "(11, 123)\n",
      "(21, 321)\n"
     ]
    }
   ],
   "source": [
    "hp = heapdict()\n",
    "i = 11\n",
    "hp[i] = 123\n",
    "hp[21] = 321\n",
    "hp[23] = 984\n",
    "\n",
    "obj = hp.popitem()\n",
    "print(obj)\n",
    "obj = hp.popitem()\n",
    "print(obj)"
   ]
  },
  {
   "cell_type": "code",
   "execution_count": null,
   "metadata": {},
   "outputs": [],
   "source": []
  },
  {
   "cell_type": "code",
   "execution_count": null,
   "metadata": {
    "collapsed": true
   },
   "outputs": [],
   "source": []
  }
 ],
 "metadata": {
  "kernelspec": {
   "display_name": "Python 3",
   "language": "python",
   "name": "python3"
  },
  "language_info": {
   "codemirror_mode": {
    "name": "ipython",
    "version": 3
   },
   "file_extension": ".py",
   "mimetype": "text/x-python",
   "name": "python",
   "nbconvert_exporter": "python",
   "pygments_lexer": "ipython3",
   "version": "3.6.3"
  }
 },
 "nbformat": 4,
 "nbformat_minor": 2
}
