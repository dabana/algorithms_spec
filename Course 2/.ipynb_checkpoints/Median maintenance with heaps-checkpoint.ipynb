{
 "cells": [
  {
   "cell_type": "code",
   "execution_count": 16,
   "metadata": {},
   "outputs": [
    {
     "name": "stdout",
     "output_type": "stream",
     "text": [
      "Done!\n"
     ]
    }
   ],
   "source": [
    "#Median maintenance with heaps\n",
    "import numpy as np\n",
    "from heapdict import *\n",
    "from heapq import *\n",
    "\n",
    "#Initialize the heaps and the median variable\n",
    "#hpl = heapdict()\n",
    "#hph = heapdict()\n",
    "hpl = []\n",
    "hph = []\n",
    "median = []\n",
    "\n",
    "#Read in the digits from the file one at the time\n",
    "with open('MM.txt') as file:\n",
    "    for line in file:\n",
    "        num = int(line)\n",
    "        #Handle the empty heaps case first\n",
    "        if len(hph) == 0 and len(hpl) == 0:\n",
    "            heappush(hph, num)\n",
    "        else:\n",
    "            #Then push the integer into the appropriate heap\n",
    "            if num >= hph[0]:\n",
    "                heappush(hph, num)\n",
    "            else:\n",
    "                heappush(hpl, -num)\n",
    "        \n",
    "        #Rebalance the heaps\n",
    "        lh = len(hph)\n",
    "        ll = len(hpl)\n",
    "        if lh - ll > 1:\n",
    "            heappush(hpl, -heappop(hph))\n",
    "        elif lh - ll < 1:\n",
    "            heappush(hph, -heappop(hpl))\n",
    "        \n",
    "        #Compute median\n",
    "        lh = len(hph)\n",
    "        ll = len(hpl)\n",
    "        if lh - ll > 0:\n",
    "            m = hph[0]\n",
    "        elif lh - ll <= 0:\n",
    "            m = -hpl[0]\n",
    "        median.append(m)\n",
    "    print('Done!')    \n",
    "        \n",
    "        "
   ]
  },
  {
   "cell_type": "code",
   "execution_count": 17,
   "metadata": {},
   "outputs": [
    {
     "name": "stdout",
     "output_type": "stream",
     "text": [
      "10000\n",
      "1213\n"
     ]
    }
   ],
   "source": [
    "#Compute the answer for the assignement\n",
    "print(len(median[0:10000]))\n",
    "print(sum(median[0:10000])%10000)"
   ]
  },
  {
   "cell_type": "code",
   "execution_count": null,
   "metadata": {
    "collapsed": true
   },
   "outputs": [],
   "source": []
  }
 ],
 "metadata": {
  "kernelspec": {
   "display_name": "Python 3",
   "language": "python",
   "name": "python3"
  },
  "language_info": {
   "codemirror_mode": {
    "name": "ipython",
    "version": 3
   },
   "file_extension": ".py",
   "mimetype": "text/x-python",
   "name": "python",
   "nbconvert_exporter": "python",
   "pygments_lexer": "ipython3",
   "version": "3.6.3"
  }
 },
 "nbformat": 4,
 "nbformat_minor": 2
}
